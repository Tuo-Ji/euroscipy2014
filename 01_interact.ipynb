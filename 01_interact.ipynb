{
 "metadata": {
  "name": "",
  "signature": "sha256:4c7ea94b1345df840adf13d0e73d9891df9f1968eaec04ce068b823299ce103c"
 },
 "nbformat": 3,
 "nbformat_minor": 0,
 "worksheets": [
  {
   "cells": [
    {
     "cell_type": "markdown",
     "metadata": {},
     "source": [
      "# Calling your Python functions with graphical controls"
     ]
    },
    {
     "cell_type": "markdown",
     "metadata": {},
     "source": []
    }
   ],
   "metadata": {}
  }
 ]
}