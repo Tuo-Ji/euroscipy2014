{
 "metadata": {
  "name": "",
  "signature": "sha256:1e744e18a689a16d5ce4a2636bbea5ad4239b0147224141b3127053a03fa6d19"
 },
 "nbformat": 3,
 "nbformat_minor": 0,
 "worksheets": [
  {
   "cells": [
    {
     "cell_type": "markdown",
     "metadata": {},
     "source": [
      "# Creating a GUI in the notebook"
     ]
    },
    {
     "cell_type": "markdown",
     "metadata": {},
     "source": []
    }
   ],
   "metadata": {}
  }
 ]
}