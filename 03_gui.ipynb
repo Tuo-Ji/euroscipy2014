{
 "metadata": {
  "name": "",
  "signature": "sha256:c9cd4cf76bbffb343764ebc4afac47770abbbe73c4b105f56611300951f671df"
 },
 "nbformat": 3,
 "nbformat_minor": 0,
 "worksheets": [
  {
   "cells": [
    {
     "cell_type": "markdown",
     "metadata": {},
     "source": [
      "# Creating a GUI in the notebook"
     ]
    },
    {
     "cell_type": "markdown",
     "metadata": {},
     "source": [
      "> This example is inspired by [this recipe](http://nbviewer.ipython.org/github/ipython-books/cookbook-code/blob/master/notebooks/chapter08_ml/05_svm.ipynb) from the [IPython cookbook](http://ipython-books.github.io)."
     ]
    },
    {
     "cell_type": "code",
     "collapsed": false,
     "input": [
      "from IPython.html import widgets\n",
      "from IPython.display import display, clear_output\n",
      "import numpy as np\n",
      "import matplotlib.pyplot as plt\n",
      "%matplotlib inline"
     ],
     "language": "python",
     "metadata": {},
     "outputs": [],
     "prompt_number": 1
    },
    {
     "cell_type": "code",
     "collapsed": false,
     "input": [
      "import mpld3\n",
      "mpld3.enable_notebook()"
     ],
     "language": "python",
     "metadata": {},
     "outputs": [],
     "prompt_number": 2
    },
    {
     "cell_type": "code",
     "collapsed": false,
     "input": [
      "import sklearn\n",
      "import sklearn.datasets as ds\n",
      "import sklearn.cross_validation as cv\n",
      "import sklearn.grid_search as gs\n",
      "import sklearn.svm as svm"
     ],
     "language": "python",
     "metadata": {},
     "outputs": [
      {
       "output_type": "stream",
       "stream": "stderr",
       "text": [
        "P:\\WinPython-64bit-2.7.6.3\\python-2.7.6.amd64\\lib\\site-packages\\numpy\\oldnumeric\\__init__.py:11: ModuleDeprecationWarning: The oldnumeric module will be dropped in Numpy 1.9\n",
        "  warnings.warn(_msg, ModuleDeprecationWarning)\n"
       ]
      }
     ],
     "prompt_number": 3
    },
    {
     "cell_type": "code",
     "collapsed": false,
     "input": [
      "X = np.random.randn(200, 2)\n",
      "y = np.logical_xor(X[:, 0]>0, X[:, 1]>0)"
     ],
     "language": "python",
     "metadata": {},
     "outputs": [],
     "prompt_number": 4
    },
    {
     "cell_type": "code",
     "collapsed": false,
     "input": [
      "# We generate a grid in the square [-3,3 ]^2.\n",
      "xx, yy = np.meshgrid(np.linspace(-3, 3, 500),\n",
      "                     np.linspace(-3, 3, 500))"
     ],
     "language": "python",
     "metadata": {},
     "outputs": [],
     "prompt_number": 5
    },
    {
     "cell_type": "code",
     "collapsed": false,
     "input": [
      "# This function takes a SVM estimator as input.\n",
      "def plot_decision_function(est):\n",
      "    \n",
      "    # We evaluate the decision function on the grid.\n",
      "    Z = est.decision_function(np.c_[xx.ravel(), yy.ravel()])\n",
      "    Z = Z.reshape(xx.shape)\n",
      "    cmap = plt.cm.Blues\n",
      "    \n",
      "    # We display the decision function on the grid.\n",
      "    plt.imshow(Z,\n",
      "                extent=(xx.min(), xx.max(), yy.min(), yy.max()),\n",
      "                aspect='auto', origin='lower', cmap=cmap);\n",
      "    \n",
      "    # We display the boundaries.\n",
      "    plt.contour(xx, yy, Z, levels=[0], linewidths=2,\n",
      "                colors='k');\n",
      "    \n",
      "    # We display the points with their true labels.\n",
      "    plt.scatter(X[:, 0], X[:, 1], s=30, c=.5+.5*y, lw=1, \n",
      "                cmap=cmap, vmin=0, vmax=1)\n",
      "    plt.axis([-3, 3, -3, 3])"
     ],
     "language": "python",
     "metadata": {},
     "outputs": [],
     "prompt_number": 6
    },
    {
     "cell_type": "code",
     "collapsed": false,
     "input": [
      "vbox = widgets.ContainerWidget()\n",
      "hbox1 = widgets.ContainerWidget()\n",
      "hbox2 = widgets.ContainerWidget()"
     ],
     "language": "python",
     "metadata": {},
     "outputs": [],
     "prompt_number": 7
    },
    {
     "cell_type": "code",
     "collapsed": false,
     "input": [
      "kernel_control = widgets.RadioButtonsWidget(description='kernel',\n",
      "                                            values=['linear', 'poly', \n",
      "                                                    'rbf', 'sigmoid'])\n",
      "degree_control = widgets.IntSliderWidget(description='degree',\n",
      "                                         value=3, min=3, max=10, step=1)\n",
      "c_control = widgets.FloatSliderWidget(description='log(c)', \n",
      "                                      value=1, min=-2, max=2)\n",
      "gamma_control = widgets.FloatSliderWidget(description='log(gamma)', \n",
      "                                          value=1, min=-2, max=2)"
     ],
     "language": "python",
     "metadata": {},
     "outputs": [],
     "prompt_number": 8
    },
    {
     "cell_type": "code",
     "collapsed": false,
     "input": [
      "hbox1.children = [kernel_control, degree_control]\n",
      "hbox2.children = [c_control, gamma_control]\n",
      "\n",
      "vbox.children = [hbox1, hbox2]\n",
      "display(vbox)"
     ],
     "language": "python",
     "metadata": {},
     "outputs": [],
     "prompt_number": 9
    },
    {
     "cell_type": "code",
     "collapsed": false,
     "input": [
      "def set_css():\n",
      "    hbox1.remove_class('vbox')\n",
      "    hbox1.add_class('hbox')\n",
      "    hbox2.remove_class('vbox')\n",
      "    hbox2.add_class('hbox')\n",
      "    vbox.add_class('vbox')\n",
      "\n",
      "    degree_control.set_css('width', 100)\n",
      "    c_control.set_css('width', 100)\n",
      "    gamma_control.set_css('width', 100)\n",
      "set_css()"
     ],
     "language": "python",
     "metadata": {},
     "outputs": [],
     "prompt_number": 10
    },
    {
     "cell_type": "markdown",
     "metadata": {},
     "source": [
      "Try doing `hbox1.set_css('background-color', '#ccc')`."
     ]
    },
    {
     "cell_type": "code",
     "collapsed": false,
     "input": [
      "def start(e):\n",
      "    estimator = svm.SVC(kernel=kernel_control.value,\n",
      "                        C=10**c_control.value,\n",
      "                        gamma=10**gamma_control.value,\n",
      "                        degree=degree_control.value)\n",
      "    estimator.fit(X, y)\n",
      "    clear_output()\n",
      "    plot_decision_function(estimator)"
     ],
     "language": "python",
     "metadata": {},
     "outputs": [],
     "prompt_number": 11
    },
    {
     "cell_type": "code",
     "collapsed": false,
     "input": [
      "start_button = widgets.ButtonWidget(description='Go!')\n",
      "vbox.children += (start_button,)\n",
      "start_button.on_click(start)"
     ],
     "language": "python",
     "metadata": {},
     "outputs": [],
     "prompt_number": 12
    },
    {
     "cell_type": "code",
     "collapsed": false,
     "input": [
      "display(vbox)\n",
      "set_css()"
     ],
     "language": "python",
     "metadata": {},
     "outputs": [],
     "prompt_number": 13
    }
   ],
   "metadata": {}
  }
 ]
}