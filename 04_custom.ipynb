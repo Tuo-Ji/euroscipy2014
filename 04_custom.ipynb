{
 "metadata": {
  "name": "",
  "signature": "sha256:04649c1d5fe68e1705b39a181ce5668c175f215ad156b605c7214766d18ad15e"
 },
 "nbformat": 3,
 "nbformat_minor": 0,
 "worksheets": [
  {
   "cells": [
    {
     "cell_type": "markdown",
     "metadata": {},
     "source": [
      "# Creating a custom notebook widget with backbone.js"
     ]
    },
    {
     "cell_type": "markdown",
     "metadata": {},
     "source": [
      "In this last part, we will see how to create an entirely custom JavaScript widget. This widget lets us choose an integer with + and - buttons."
     ]
    },
    {
     "cell_type": "markdown",
     "metadata": {},
     "source": [
      "Let's do a few imports."
     ]
    },
    {
     "cell_type": "code",
     "collapsed": false,
     "input": [
      "from IPython.html import widgets\n",
      "from IPython.html.widgets import interact\n",
      "from IPython.utils.traitlets import Unicode, Int, link"
     ],
     "language": "python",
     "metadata": {},
     "outputs": [],
     "prompt_number": 1
    },
    {
     "cell_type": "markdown",
     "metadata": {},
     "source": [
      "We first need to create a Python class representing our widget, deriving from `DOMWidget`."
     ]
    },
    {
     "cell_type": "code",
     "collapsed": false,
     "input": [
      "class NumberSelectorWidget(widgets.DOMWidget):\n",
      "    _view_name = Unicode('NumberSelector', sync=True)\n",
      "    description = Unicode(help=\"Description of the value this widget represents\", sync=True)\n",
      "    value = Int(0, sync=True)"
     ],
     "language": "python",
     "metadata": {},
     "outputs": [],
     "prompt_number": 2
    },
    {
     "cell_type": "markdown",
     "metadata": {},
     "source": [
      "* We specify a `_view_name` **trait attribute**, synchronized with the browser view (`sync=True`). This attribute is mandatory.\n",
      "* The `description` attribute is necessary when using the widget with `@interact` (see below).\n",
      "* We also specify a `value` attribute containing the widget's value."
     ]
    },
    {
     "cell_type": "markdown",
     "metadata": {},
     "source": [
      "> [Trait attributes](http://ipython.org/ipython-doc/dev/api/generated/IPython.utils.traitlets.html) are supercharged versions of class attributes in Python. Implemented in IPython, they have a type, and they offer a way to react to changes in Python callback functions."
     ]
    },
    {
     "cell_type": "markdown",
     "metadata": {},
     "source": [
      "Now we write the JavaScript logic of the widget."
     ]
    },
    {
     "cell_type": "code",
     "collapsed": false,
     "input": [
      "%%javascript\n",
      "// We import the WidgetManager.\n",
      "require([\"widgets/js/widget\"], function(WidgetManager){ \n",
      "    \n",
      "    // We define the NumberSelector view here.\n",
      "    var NumberSelector = IPython.DOMWidgetView.extend({\n",
      "        \n",
      "        // Function for rendering the view.\n",
      "        render: function(){\n",
      "            \n",
      "            // Little trick to pass the current context into closures.\n",
      "            var that = this;\n",
      "            \n",
      "            // We now create the HTML widget using jQuery.\n",
      "            // First, we create two buttons for + and -.\n",
      "            var button_minus = $('<button style=\"width: 30px;\">-</button>');\n",
      "            var button_plus = $('<button style=\"width: 30px;\">+</button>');\n",
      "            \n",
      "            // We also create <span> element displaying the number.\n",
      "            this.$span = $('<span style=\"margin: 0 10px;\">0</span>');\n",
      "            \n",
      "            // We add these three elements to the main <div> element of the\n",
      "            // widget (this.$el, a jQuery handle).\n",
      "            this.$el.append(button_minus);\n",
      "            this.$el.append(this.$span);\n",
      "            this.$el.append(button_plus);\n",
      "            \n",
      "            // Clicking on the buttons calls `change_value()`.\n",
      "            button_minus.click(function() { that.change_value(-1); });\n",
      "            button_plus.click(function() { that.change_value(+1); });\n",
      "            \n",
      "            // This instructs backbone.js to call `value_changed()` whenever the \n",
      "            // model's value changes (notably in the corresponding Python model).\n",
      "            this.model.on('change:value', this.value_changed, this);\n",
      "            \n",
      "        },\n",
      "        \n",
      "        // What happens when the model's value changes.\n",
      "        value_changed: function() {\n",
      "            \n",
      "            // We update the <span> element with the value.\n",
      "            // We can recover the model's value with `this.model.get('value')`.\n",
      "            this.$span.html(this.model.get('value'));\n",
      "            \n",
      "        },\n",
      "        \n",
      "        // What happens when we click on the buttons.\n",
      "        change_value: function(dx) {\n",
      "            \n",
      "            // We first recover the current value.\n",
      "            var value = this.model.get('value');\n",
      "            \n",
      "            // We update it.\n",
      "            this.model.set('value', value + dx);\n",
      "            \n",
      "            // This associates the `set()` operation with a particular view\n",
      "            // so that the output will be routed to the correct cell.\n",
      "            this.touch();\n",
      "        }\n",
      "    });\n",
      "    \n",
      "    // We register the NumberSelector widget (must correspond to '_view_name' in the Python widget).\n",
      "    WidgetManager.register_widget_view('NumberSelector', NumberSelector);\n",
      "});"
     ],
     "language": "python",
     "metadata": {},
     "outputs": [
      {
       "javascript": [
        "// We import the WidgetManager.\n",
        "require([\"widgets/js/widget\"], function(WidgetManager){ \n",
        "    \n",
        "    // We define the NumberSelector view here.\n",
        "    var NumberSelector = IPython.DOMWidgetView.extend({\n",
        "        \n",
        "        // Function for rendering the view.\n",
        "        render: function(){\n",
        "            \n",
        "            // Little trick to pass the current context into closures.\n",
        "            var that = this;\n",
        "            \n",
        "            // We now create the HTML widget using jQuery.\n",
        "            // First, we create two buttons for + and -.\n",
        "            var button_minus = $('<button style=\"width: 30px;\">-</button>');\n",
        "            var button_plus = $('<button style=\"width: 30px;\">+</button>');\n",
        "            \n",
        "            // We also create <span> element displaying the number.\n",
        "            this.$span = $('<span style=\"margin: 0 10px;\">0</span>');\n",
        "            \n",
        "            // We add these three elements to the main <div> element of the\n",
        "            // widget (this.$el, a jQuery handle).\n",
        "            this.$el.append(button_minus);\n",
        "            this.$el.append(this.$span);\n",
        "            this.$el.append(button_plus);\n",
        "            \n",
        "            // Clicking on the buttons calls `change_value()`.\n",
        "            button_minus.click(function() { that.change_value(-1); });\n",
        "            button_plus.click(function() { that.change_value(+1); });\n",
        "            \n",
        "            // This instructs backbone.js to call `value_changed()` whenever the \n",
        "            // model's value changes (notably in the corresponding Python model).\n",
        "            this.model.on('change:value', this.value_changed, this);\n",
        "            \n",
        "        },\n",
        "        \n",
        "        // What happens when the model's value changes.\n",
        "        value_changed: function() {\n",
        "            \n",
        "            // We update the <span> element with the value.\n",
        "            // We can recover the model's value with `this.model.get('value')`.\n",
        "            this.$span.html(this.model.get('value'));\n",
        "            \n",
        "        },\n",
        "        \n",
        "        // What happens when we click on the buttons.\n",
        "        change_value: function(dx) {\n",
        "            \n",
        "            // We first recover the current value.\n",
        "            var value = this.model.get('value');\n",
        "            \n",
        "            // We update it.\n",
        "            this.model.set('value', value + dx);\n",
        "            \n",
        "            // This associates the `set()` operation with a particular view\n",
        "            // so that the output will be routed to the correct cell.\n",
        "            this.touch();\n",
        "        }\n",
        "    });\n",
        "    \n",
        "    // We register the NumberSelector widget (must correspond to '_view_name' in the Python widget).\n",
        "    WidgetManager.register_widget_view('NumberSelector', NumberSelector);\n",
        "});"
       ],
       "metadata": {},
       "output_type": "display_data",
       "text": [
        "<IPython.core.display.Javascript object>"
       ]
      }
     ],
     "prompt_number": 3
    },
    {
     "cell_type": "markdown",
     "metadata": {},
     "source": [
      "Let's test our widget!"
     ]
    },
    {
     "cell_type": "code",
     "collapsed": false,
     "input": [
      "widget = NumberSelectorWidget()\n",
      "widget"
     ],
     "language": "python",
     "metadata": {},
     "outputs": [],
     "prompt_number": 10
    },
    {
     "cell_type": "markdown",
     "metadata": {},
     "source": [
      "The widget's value is synchronized with Python."
     ]
    },
    {
     "cell_type": "code",
     "collapsed": false,
     "input": [
      "widget.value = 5"
     ],
     "language": "python",
     "metadata": {},
     "outputs": [],
     "prompt_number": 11
    },
    {
     "cell_type": "markdown",
     "metadata": {},
     "source": [
      "The widget's value can be synchronized with other widgets, using the `link()` function."
     ]
    },
    {
     "cell_type": "code",
     "collapsed": false,
     "input": [
      "widget2 = widgets.IntSliderWidget(min=-10, max=+10)\n",
      "mylink = link((widget, 'value'), (widget2, 'value'))\n",
      "widget2"
     ],
     "language": "python",
     "metadata": {},
     "outputs": [],
     "prompt_number": 12
    },
    {
     "cell_type": "markdown",
     "metadata": {},
     "source": [
      "Our widget can also be used with `@interact`."
     ]
    },
    {
     "cell_type": "code",
     "collapsed": false,
     "input": [
      "@interact(x=NumberSelectorWidget())\n",
      "def f(x):\n",
      "    print(\"%d^2=%d\" % (x, x*x))"
     ],
     "language": "python",
     "metadata": {},
     "outputs": [
      {
       "output_type": "stream",
       "stream": "stdout",
       "text": [
        "6^2=36\n"
       ]
      }
     ],
     "prompt_number": 13
    },
    {
     "cell_type": "markdown",
     "metadata": {},
     "source": [
      "## References\n",
      "\n",
      "* [Custom widgets documentation](http://nbviewer.ipython.org/github/ipython/ipython/blob/master/examples/Interactive%20Widgets/Custom%20Widget%20-%20Hello%20World.ipynb)\n",
      "* [Creating a custom Javascript widget in the notebook: a spreadsheet editor for Pandas](http://nbviewer.ipython.org/github/ipython-books/cookbook-code/blob/master/notebooks/chapter03_notebook/06_widgets.ipynb), a recipe from the [IPython Cookbook](http://ipython-books.github.io/)\n",
      "* [Processing webcam images in real-time from the notebook](http://nbviewer.ipython.org/github/ipython-books/cookbook-code/blob/master/notebooks/chapter03_notebook/07_webcam.ipynb), a recipe from the [IPython Cookbook](http://ipython-books.github.io/)"
     ]
    }
   ],
   "metadata": {}
  }
 ]
}