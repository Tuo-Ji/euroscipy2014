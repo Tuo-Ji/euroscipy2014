{
 "metadata": {
  "name": "",
  "signature": "sha256:5a354d7fef4c0bc536bdb671d6614a03251532f078a84d9e078e125f197c85fb"
 },
 "nbformat": 3,
 "nbformat_minor": 0,
 "worksheets": [
  {
   "cells": [
    {
     "cell_type": "markdown",
     "metadata": {},
     "source": [
      "# Creating a custom notebook widget with backbone.js"
     ]
    },
    {
     "cell_type": "markdown",
     "metadata": {},
     "source": []
    },
    {
     "cell_type": "markdown",
     "metadata": {},
     "source": [
      "## References\n",
      "\n",
      "* [Custom widgets documentation](http://nbviewer.ipython.org/github/ipython/ipython/blob/master/examples/Interactive%20Widgets/Custom%20Widget%20-%20Hello%20World.ipynb)\n",
      "* [Creating a custom Javascript widget in the notebook: a spreadsheet editor for Pandas](http://nbviewer.ipython.org/github/ipython-books/cookbook-code/blob/master/notebooks/chapter03_notebook/06_widgets.ipynb), a recipe from the [IPython Cookbook](http://ipython-books.github.io/)\n",
      "* [Processing webcam images in real-time from the notebook](http://nbviewer.ipython.org/github/ipython-books/cookbook-code/blob/master/notebooks/chapter03_notebook/07_webcam.ipynb), a recipe from the [IPython Cookbook](http://ipython-books.github.io/)"
     ]
    }
   ],
   "metadata": {}
  }
 ]
}