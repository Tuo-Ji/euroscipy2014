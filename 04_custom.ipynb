{
 "metadata": {
  "name": "",
  "signature": "sha256:a8bd2d57e7bd64835c6c0a914f40dfe9087268774bcfe328433262fe986b5cf1"
 },
 "nbformat": 3,
 "nbformat_minor": 0,
 "worksheets": [
  {
   "cells": [
    {
     "cell_type": "markdown",
     "metadata": {},
     "source": [
      "# Creating a custom notebook widget with backbone.js"
     ]
    },
    {
     "cell_type": "markdown",
     "metadata": {},
     "source": []
    }
   ],
   "metadata": {}
  }
 ]
}